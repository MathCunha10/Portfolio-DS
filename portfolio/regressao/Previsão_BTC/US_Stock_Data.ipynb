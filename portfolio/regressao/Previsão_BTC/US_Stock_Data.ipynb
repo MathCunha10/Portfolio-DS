{
 "cells": [
  {
   "cell_type": "code",
   "execution_count": 1,
   "metadata": {},
   "outputs": [],
   "source": [
    "import pandas as pd\n",
    "import numpy as np\n",
    "import matplotlib.pyplot as plt\n",
    "import seaborn as sns\n",
    "from xgboost import XGBRegressor\n",
    "from sklearn.metrics import mean_absolute_error, mean_squared_error, root_mean_squared_error"
   ]
  },
  {
   "cell_type": "code",
   "execution_count": 2,
   "metadata": {},
   "outputs": [],
   "source": [
    "def print_metrics(y_pred,y_true):\n",
    "    print('MAE',mean_absolute_error(y_pred,y_true))\n",
    "    print('MSE',mean_squared_error(y_pred,y_true))\n",
    "    print('RMSE',root_mean_squared_error(y_pred,y_true))"
   ]
  },
  {
   "cell_type": "code",
   "execution_count": null,
   "metadata": {},
   "outputs": [],
   "source": [
    "df = pd.read_csv(\"US_Stock_Data.csv\", index_col = 'Unnamed: 0')\n",
    "df.head(10)"
   ]
  },
  {
   "cell_type": "code",
   "execution_count": null,
   "metadata": {},
   "outputs": [],
   "source": [
    "df.info()"
   ]
  },
  {
   "cell_type": "markdown",
   "metadata": {},
   "source": [
    "Aqui da pra perceber que o dataset precisa passar por um bom tratamento de dados, as datas não estão padronizadas e há dados relacionados a volume de transação nulos, além de dados com tipos errados.\n",
    "Primeiramente, vou converter todos os valores de data para dd/mm/yyyy"
   ]
  },
  {
   "cell_type": "code",
   "execution_count": 5,
   "metadata": {},
   "outputs": [],
   "source": [
    "df['Date'] = df['Date'].apply(lambda x : pd.to_datetime(x,dayfirst=True))"
   ]
  },
  {
   "cell_type": "markdown",
   "metadata": {},
   "source": [
    "Precisa também converter os tipos de alguns dados, vou criar um dataframe auxiliar para armazenar apenas os preços"
   ]
  },
  {
   "cell_type": "code",
   "execution_count": 6,
   "metadata": {},
   "outputs": [],
   "source": [
    "df_price = pd.DataFrame()\n",
    "for column in df.columns:\n",
    "    if 'Price' in column:\n",
    "        df_price[f'{column}'] = df[f'{column}']"
   ]
  },
  {
   "cell_type": "code",
   "execution_count": null,
   "metadata": {},
   "outputs": [],
   "source": [
    "df_price"
   ]
  },
  {
   "cell_type": "markdown",
   "metadata": {},
   "source": [
    "Vou passar um tratamento por todas as colunas, removendo as virgulas e convertendo as colunas para float64, a fim de conseguir plotar gráficos"
   ]
  },
  {
   "cell_type": "code",
   "execution_count": 8,
   "metadata": {},
   "outputs": [],
   "source": [
    "for column in df_price.columns:\n",
    "    df_price[f'{column}'] = df[f'{column}'].apply(lambda x: str(x).replace(',','')).astype('float64')"
   ]
  },
  {
   "cell_type": "code",
   "execution_count": null,
   "metadata": {},
   "outputs": [],
   "source": [
    "df_price.dtypes"
   ]
  },
  {
   "cell_type": "code",
   "execution_count": 10,
   "metadata": {},
   "outputs": [],
   "source": [
    "df_price = df_price.set_index(df['Date'])\n",
    "df = df.set_index(df['Date'])"
   ]
  },
  {
   "cell_type": "code",
   "execution_count": null,
   "metadata": {},
   "outputs": [],
   "source": [
    "df_price"
   ]
  },
  {
   "cell_type": "code",
   "execution_count": null,
   "metadata": {},
   "outputs": [],
   "source": [
    "fig,axes = plt.subplots(nrows = 5, ncols = 4, figsize = (32,40))\n",
    "for index, column in enumerate(df_price.columns):\n",
    "    df_price[f'{column}'].plot(ax=axes[index%5][index//5], title=column)\n",
    "\n",
    "plt.tight_layout()"
   ]
  },
  {
   "cell_type": "code",
   "execution_count": null,
   "metadata": {},
   "outputs": [],
   "source": [
    "for index, column in enumerate(df_price.columns):\n",
    "    fig = plt.figure(figsize = (8,5))\n",
    "    df_price[f'{column}'].plot(title=column)\n",
    "    plt.show()"
   ]
  },
  {
   "cell_type": "markdown",
   "metadata": {},
   "source": [
    "Aqui da pra fazer análise de muitas empresas, mas eu vou escolher o ramo específico de Criptomoedas (Bitcoin e Ethereum)"
   ]
  },
  {
   "cell_type": "code",
   "execution_count": null,
   "metadata": {},
   "outputs": [],
   "source": [
    "df.info()"
   ]
  },
  {
   "cell_type": "code",
   "execution_count": 15,
   "metadata": {},
   "outputs": [],
   "source": [
    "df_cripto = df_price[['Bitcoin_Price','Ethereum_Price']]"
   ]
  },
  {
   "cell_type": "code",
   "execution_count": null,
   "metadata": {},
   "outputs": [],
   "source": [
    "df_cripto"
   ]
  },
  {
   "cell_type": "code",
   "execution_count": null,
   "metadata": {},
   "outputs": [],
   "source": [
    "fig,axes = plt.subplots(ncols = 2, figsize = (12,8))\n",
    "df_cripto['Bitcoin_Price'].plot(ax = axes[0])\n",
    "df_cripto['Ethereum_Price'].plot(ax = axes[1])"
   ]
  },
  {
   "cell_type": "code",
   "execution_count": 18,
   "metadata": {},
   "outputs": [],
   "source": [
    "df_cripto_predict = (\n",
    "    df_cripto\n",
    "    .assign(Btc_fut = df_cripto['Bitcoin_Price'].shift(1))\n",
    "    .assign(Eth_fut = df_cripto['Ethereum_Price'].shift(1))\n",
    ")\n"
   ]
  },
  {
   "cell_type": "code",
   "execution_count": null,
   "metadata": {},
   "outputs": [],
   "source": [
    "df_cripto_predict"
   ]
  },
  {
   "cell_type": "code",
   "execution_count": 20,
   "metadata": {},
   "outputs": [],
   "source": [
    "df_cripto_predict.drop('2024-02-02', inplace = True)"
   ]
  },
  {
   "cell_type": "code",
   "execution_count": 21,
   "metadata": {},
   "outputs": [],
   "source": [
    "threshold = np.quantile(df_cripto_predict.index,0.95)\n",
    "train = df_cripto_predict.loc[df_cripto_predict.index < threshold]\n",
    "test = df_cripto_predict.loc[df_cripto_predict.index > threshold]"
   ]
  },
  {
   "cell_type": "code",
   "execution_count": 22,
   "metadata": {},
   "outputs": [],
   "source": [
    "X_train_btc,y_train_btc = train['Bitcoin_Price'],train['Btc_fut']\n",
    "X_test_btc,y_test_btc = test['Bitcoin_Price'],test['Btc_fut']\n",
    "X_train_eth,y_train_eth= train['Ethereum_Price'],train['Eth_fut']\n",
    "X_test_eth,y_test_eth= test['Ethereum_Price'],test['Eth_fut']\n"
   ]
  },
  {
   "cell_type": "code",
   "execution_count": null,
   "metadata": {},
   "outputs": [],
   "source": [
    "XGB = XGBRegressor()\n",
    "XGB.fit(X_train_btc,y_train_btc)"
   ]
  },
  {
   "cell_type": "code",
   "execution_count": 24,
   "metadata": {},
   "outputs": [],
   "source": [
    "y_pred_btc = XGB.predict(X_test_btc)"
   ]
  },
  {
   "cell_type": "code",
   "execution_count": null,
   "metadata": {},
   "outputs": [],
   "source": [
    "print_metrics(y_pred_btc,y_test_btc)"
   ]
  },
  {
   "cell_type": "code",
   "execution_count": 26,
   "metadata": {},
   "outputs": [],
   "source": [
    "datas_previsao = np.asarray(X_test_btc.index)\n",
    "datas = np.asarray(df_cripto_predict.index)"
   ]
  },
  {
   "cell_type": "code",
   "execution_count": null,
   "metadata": {},
   "outputs": [],
   "source": [
    "fig = plt.figure(figsize = (15,5))\n",
    "plt.plot(datas, df_cripto_predict['Bitcoin_Price'].values, label = 'Real')\n",
    "plt.plot(datas_previsao, y_pred_btc, label = 'Predito', color = 'red')\n",
    "plt.legend()"
   ]
  },
  {
   "cell_type": "code",
   "execution_count": null,
   "metadata": {},
   "outputs": [],
   "source": [
    "fig = plt.figure(figsize = (8,5))\n",
    "plt.plot(datas_previsao, y_test_btc, label = 'Real')\n",
    "plt.plot(datas_previsao, y_pred_btc, label = 'Predito', color = 'red')\n",
    "plt.legend()"
   ]
  },
  {
   "cell_type": "markdown",
   "metadata": {},
   "source": [
    "Agora vou fazer o mesmo pro ethereum"
   ]
  },
  {
   "cell_type": "code",
   "execution_count": null,
   "metadata": {},
   "outputs": [],
   "source": [
    "XGB = XGBRegressor()\n",
    "XGB.fit(X_train_eth,y_train_eth)"
   ]
  },
  {
   "cell_type": "code",
   "execution_count": 30,
   "metadata": {},
   "outputs": [],
   "source": [
    "y_pred_eth = XGB.predict(X_test_eth)"
   ]
  },
  {
   "cell_type": "code",
   "execution_count": null,
   "metadata": {},
   "outputs": [],
   "source": [
    "print_metrics(y_pred_eth,y_test_eth)"
   ]
  },
  {
   "cell_type": "code",
   "execution_count": 32,
   "metadata": {},
   "outputs": [],
   "source": [
    "datas_previsao = np.asarray(X_test_eth.index)\n",
    "datas = np.asarray(df_cripto_predict.index)"
   ]
  },
  {
   "cell_type": "code",
   "execution_count": null,
   "metadata": {},
   "outputs": [],
   "source": [
    "fig = plt.figure(figsize = (15,5))\n",
    "plt.plot(datas, df_cripto_predict['Ethereum_Price'].values, label = 'Real')\n",
    "plt.plot(datas_previsao, y_pred_eth, label = 'Predito', color = 'red')\n",
    "plt.legend()"
   ]
  },
  {
   "cell_type": "code",
   "execution_count": null,
   "metadata": {},
   "outputs": [],
   "source": [
    "fig = plt.figure(figsize = (8,5))\n",
    "plt.plot(datas_previsao, y_test_eth, label = 'Real')\n",
    "plt.plot(datas_previsao, y_pred_eth, label = 'Predito', color = 'red')\n",
    "plt.legend()"
   ]
  }
 ],
 "metadata": {
  "kernelspec": {
   "display_name": "dnc",
   "language": "python",
   "name": "python3"
  },
  "language_info": {
   "codemirror_mode": {
    "name": "ipython",
    "version": 3
   },
   "file_extension": ".py",
   "mimetype": "text/x-python",
   "name": "python",
   "nbconvert_exporter": "python",
   "pygments_lexer": "ipython3",
   "version": "3.12.6"
  }
 },
 "nbformat": 4,
 "nbformat_minor": 2
}
